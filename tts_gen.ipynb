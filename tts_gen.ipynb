{
 "cells": [
  {
   "cell_type": "code",
   "execution_count": 2,
   "metadata": {},
   "outputs": [],
   "source": [
    "from scipy.io.wavfile import write\n",
    "import msinference\n",
    "text = 'Hello world!'\n"
   ]
  },
  {
   "cell_type": "code",
   "execution_count": 6,
   "metadata": {},
   "outputs": [],
   "source": [
    "import os\n",
    "import random\n",
    "from pydub import AudioSegment\n",
    "\n",
    "def combine_wav_files(dir):\n",
    "    # 获取目录下的所有 wav 文件\n",
    "    wav_files = [f for f in os.listdir(dir) if f.endswith(\".wav\")]\n",
    "\n",
    "    # 随机选择三个 wav 文件\n",
    "    selected_files = random.sample(wav_files, 10)\n",
    "\n",
    "    # 合并三个 wav 文件\n",
    "    combined = AudioSegment.empty()\n",
    "    for file in selected_files:\n",
    "        sound = AudioSegment.from_wav(os.path.join(dir, file))\n",
    "        combined += sound\n",
    "\n",
    "    # 保存新的 wav 文件\n",
    "    combined_wav_path = os.path.join(dir, \"combined.wav\")\n",
    "    combined.export(combined_wav_path, format=\"wav\")\n",
    "\n",
    "    return combined_wav_path"
   ]
  },
  {
   "cell_type": "code",
   "execution_count": 7,
   "metadata": {},
   "outputs": [],
   "source": [
    "en_splist=['/home/ydoit/AIGC/Raw-EN/wav48_silence_trimmed/p277',\n",
    "'/home/ydoit/AIGC/Raw-EN/wav48_silence_trimmed/p361',\n",
    "'/home/ydoit/AIGC/Raw-EN/wav48_silence_trimmed/p266',\n",
    "'/home/ydoit/AIGC/Raw-EN/wav48_silence_trimmed/p248',\n",
    "'/home/ydoit/AIGC/Raw-EN/wav48_silence_trimmed/p263',\n",
    "'/home/ydoit/AIGC/Raw-EN/wav48_silence_trimmed/p335',\n",
    "'/home/ydoit/AIGC/Raw-EN/wav48_silence_trimmed/p274',\n",
    "'/home/ydoit/AIGC/Raw-EN/wav48_silence_trimmed/p276',\n",
    "'/home/ydoit/AIGC/Raw-EN/wav48_silence_trimmed/p285',\n",
    "'/home/ydoit/AIGC/Raw-EN/wav48_silence_trimmed/p343']"
   ]
  },
  {
   "cell_type": "code",
   "execution_count": 8,
   "metadata": {},
   "outputs": [],
   "source": [
    "compute_voice=[]\n",
    "for i in en_splist:\n",
    "    compute_voice.append(combine_wav_files(i))"
   ]
  },
  {
   "cell_type": "code",
   "execution_count": 13,
   "metadata": {},
   "outputs": [],
   "source": [
    "def audio_gen(text,voice,sp_index,text_index,pattern,la):\n",
    "    voice = msinference.compute_style(voice)\n",
    "    wav = msinference.inference(text, voice, alpha=0.3, beta=0.7, diffusion_steps=7, embedding_scale=1)\n",
    "    write(f'output/{pattern}/{la}/speaker{sp_index}/audio{text_index}.wav', 24000, wav)\n",
    "    with open (f'output/{pattern}/{la}/speaker{sp_index}/audio{text_index}.txt','w') as f:\n",
    "        f.write(text)"
   ]
  },
  {
   "cell_type": "code",
   "execution_count": 14,
   "metadata": {},
   "outputs": [],
   "source": [
    "en_fix_path='/home/ydoit/AIGC/Raw-EN/en_normal_fix.txt'\n",
    "en_random_path='/home/ydoit/AIGC/Raw-EN/en_normal_random.txt'\n",
    "with open(en_fix_path,'r') as f:\n",
    "    en_fix=f.readlines()\n",
    "with open(en_random_path,'r') as f:\n",
    "    en_random=f.readlines()[800:900]\n",
    "    "
   ]
  },
  {
   "cell_type": "code",
   "execution_count": 15,
   "metadata": {},
   "outputs": [
    {
     "name": "stderr",
     "output_type": "stream",
     "text": [
      "/home/ydoit/AIGC/styleTTS2/styletts/lib/python3.10/site-packages/torch/nn/modules/conv.py:306: UserWarning: Plan failed with a cudnnException: CUDNN_BACKEND_EXECUTION_PLAN_DESCRIPTOR: cudnnFinalize Descriptor Failed cudnn_status: CUDNN_STATUS_NOT_SUPPORTED (Triggered internally at ../aten/src/ATen/native/cudnn/Conv_v8.cpp:919.)\n",
      "  return F.conv1d(input, weight, bias, self.stride,\n",
      "/home/ydoit/AIGC/styleTTS2/styletts/lib/python3.10/site-packages/torch/nn/modules/conv.py:456: UserWarning: Plan failed with a cudnnException: CUDNN_BACKEND_EXECUTION_PLAN_DESCRIPTOR: cudnnFinalize Descriptor Failed cudnn_status: CUDNN_STATUS_NOT_SUPPORTED (Triggered internally at ../aten/src/ATen/native/cudnn/Conv_v8.cpp:919.)\n",
      "  return F.conv2d(input, weight, bias, self.stride,\n"
     ]
    }
   ],
   "source": [
    "for i in range(100):\n",
    "    sp_index=int(i/10)\n",
    "    text_index=int(i%10)+1\n",
    "    voice=compute_voice[sp_index]\n",
    "    en_fix_text=en_fix[i]    \n",
    "    en_random_text=en_random[i]\n",
    "    audio_gen(en_fix_text,voice,sp_index+1,text_index,'fix','en')\n",
    "    audio_gen(en_random_text,voice,sp_index+1,text_index,'random','en')"
   ]
  }
 ],
 "metadata": {
  "kernelspec": {
   "display_name": "Python 3",
   "language": "python",
   "name": "python3"
  },
  "language_info": {
   "codemirror_mode": {
    "name": "ipython",
    "version": 3
   },
   "file_extension": ".py",
   "mimetype": "text/x-python",
   "name": "python",
   "nbconvert_exporter": "python",
   "pygments_lexer": "ipython3",
   "version": "3.10.12"
  }
 },
 "nbformat": 4,
 "nbformat_minor": 2
}
